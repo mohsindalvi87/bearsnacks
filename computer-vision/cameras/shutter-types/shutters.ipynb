{
 "cells": [
  {
   "cell_type": "markdown",
   "id": "absolute-buyer",
   "metadata": {},
   "source": [
    "![]()\n",
    "\n",
    "# Rolling vs Global Shutter\n",
    "\n",
    "Kevin J. Walchko, Phd\n",
    "\n",
    "17 Jan 2021\n",
    "\n",
    "---\n",
    "\n",
    "\n",
    "For anything with fast motion, a global shutter camera is better, since it captures all pixels at once. Rolling shutter, however, is cheaper to build and on scenes with slower motion, can do a better job capturing the world.\n",
    "\n",
    "![](rolling-shutter.gif)\n",
    "\n",
    "![](rolling-shutter.webp)"
   ]
  },
  {
   "cell_type": "code",
   "execution_count": null,
   "id": "rough-somerset",
   "metadata": {},
   "outputs": [],
   "source": []
  }
 ],
 "metadata": {
  "kernelspec": {
   "display_name": "Python 3",
   "language": "python",
   "name": "python3"
  },
  "language_info": {
   "codemirror_mode": {
    "name": "ipython",
    "version": 3
   },
   "file_extension": ".py",
   "mimetype": "text/x-python",
   "name": "python",
   "nbconvert_exporter": "python",
   "pygments_lexer": "ipython3",
   "version": "3.9.1"
  }
 },
 "nbformat": 4,
 "nbformat_minor": 5
}
