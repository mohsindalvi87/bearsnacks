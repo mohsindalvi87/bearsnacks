{
 "cells": [
  {
   "cell_type": "markdown",
   "id": "technical-gateway",
   "metadata": {},
   "source": [
    "![](pics/header.jpg)\n",
    "\n",
    "# Image Processing and Computer Vision for Robotics\n",
    "\n",
    "Kevin J. Walchko, Phd\n",
    "\n",
    "---\n",
    "\n",
    "Here is some computer vision work I have created over the years.\n",
    "\n",
    "1. [Pinhole Camera Model](camera-calibration/mono-camera/pinhole-model/pinhole.ipynb?flush_cache=true)\n",
    "\n",
    "1. Mono-Camera Calibration and Image Rectification\n",
    "    1. [Classic Chessboard Target](camera-calibration/mono-camera/classic/calibration.ipynb?flush_cache=true)\n",
    "    1. Apriltags Target\n",
    "    1. [Fisheye Lens](camera-calibration/mono-camera/fisheye/calibrate.ipynb?flush_cache=true)\n",
    "    \n",
    "1. Stereo Cameras\n",
    "    1. [Calibration](camera-calibration/stereo-camera/calibration.ipynb?flush_cache=true)\n",
    "    1. [Disparity and Pointclouds](camera-calibration/stereo-camera/disparity-and-pointclouds.ipynb?flush_cache=true)\n",
    "\n",
    "1. Image Processing\n",
    "    1. [Traversing Colorspaces](image-processing/colorspaces/colorspaces.ipynb?flush_cache=true)\n",
    "    1. [Our Friend Grayscale](image-processing/grayscale/grayscale.ipynb?flush_cache=true)\n",
    "    1. [Filtering Operations](image-processing/filtering/filtering.ipynb?flush_cache=true)\n",
    "    1. [Feature Detection](image-processing/feature-detection/feature-detection.ipynb?flush_cache=true)\n",
    "\n",
    "1. Detection\n",
    "    1. [Blob Detection](detection/blob-detection/blob-detection.ipynb?flush_cache=true)\n",
    "    1. [Color Detection](detection/color-detection/color-detection.ipynb?flush_cache=true)\n",
    "    1. [Histogram Detection](detection/histogram-detection/histogram-detection.ipynb?flush_cache=true)\n",
    "    1. [Pink Racquetball Detection](detection/ball-detection/ball-detection.ipynb?flush_cache=true)\n",
    "\n",
    "1. [Compression Types and Their Effects on an Image](image-compression/image-compression.ipynb?flush_cache=true)\n",
    "1. [Compression and Serialization for Transport](compress/compress.ipynb?flush_cache=true)\n",
    "1. [Homography](homography/homography.ipynb?flush_cache=true)\n",
    "1. [Image Stitching](image-stitching/image-stitching.ipynb?flush_cache=true)\n",
    "1. Structure from Motion (SfM)\n",
    "1. [Creating Anaglyphs](anaglphs/anaglyphs.ipynb?flush_cache=true)\n",
    "\n",
    "1. Camera Types\n",
    "    1. [Focal Plane Types](cameras/shutter-types/shutters.ipynb?flush_cache=true)\n",
    "    1. Event Cameras\n",
    "    1. [Omni-Camera 360$^\\circ$ FOV](cameras/omnicamera/omni-camera.ipynb?flush_cache=true)\n",
    "    1. [Raspberry Pi Camera v2.1](cameras/picamera/picamera.ipynb?flush_cache=true)\n",
    "    1. Pi Camera and OpenCV\n",
    "    1. [MLX90640 IR Camera](cameras/ir-camera/ir-camera.ipynb?flush_cache=true)\n",
    "    1. [EX8029 Stereo Camera](cameras/ex8029/ex8029.ipynb?flush_cache=true)\n",
    "    1. [EX8029 Depth Camera](cameras/ex8029/ex8029-depth-camera.ipynb?flush_cache=true)\n",
    "\n",
    "1. Markers\n",
    "    1. [Basic Marker Detection](markers/ar-marker-detection/ar-marker-detection.ipynb?flush_cache=true)\n",
    "    1. Apriltags\n",
    "    1. [Acuro Camera Calibration](markers/aruco/aruco-calibration.ipynb?flush_cache=true)\n",
    "    1. [Camera Pose from Markers](markers/pose/pose-from-marker.ipynb?flush_cache=true)\n",
    "\n",
    "1. Python Libraries\n",
    "    1. skimage\n",
    "    1. [OpenCV](python-libs/opencv/opencv.ipynb?flush_cache=true)\n",
    "    1. ImageIO"
   ]
  },
  {
   "cell_type": "markdown",
   "id": "senior-fault",
   "metadata": {},
   "source": [
    "\n",
    "-----------\n",
    "\n",
    "<a rel=\"license\" href=\"http://creativecommons.org/licenses/by-sa/4.0/\"><img alt=\"Creative Commons License\" style=\"border-width:0\" src=\"https://i.creativecommons.org/l/by-sa/4.0/88x31.png\" /></a><br />This work is licensed under a <a rel=\"license\" href=\"http://creativecommons.org/licenses/by-sa/4.0/\">Creative Commons Attribution-ShareAlike 4.0 International License</a>."
   ]
  }
 ],
 "metadata": {
  "kernelspec": {
   "display_name": "Python 3",
   "language": "python",
   "name": "python3"
  },
  "language_info": {
   "codemirror_mode": {
    "name": "ipython",
    "version": 3
   },
   "file_extension": ".py",
   "mimetype": "text/x-python",
   "name": "python",
   "nbconvert_exporter": "python",
   "pygments_lexer": "ipython3",
   "version": "3.9.1"
  }
 },
 "nbformat": 4,
 "nbformat_minor": 5
}
