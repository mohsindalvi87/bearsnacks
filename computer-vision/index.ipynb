{
 "cells": [
  {
   "cell_type": "markdown",
   "id": "technical-gateway",
   "metadata": {},
   "source": [
    "![](pics/header.jpg)\n",
    "\n",
    "# Computer Vision\n",
    "\n",
    "Kevin J. Walchkko, Phd\n",
    "\n",
    "---\n",
    "\n",
    "1. [Pinhole Camera Model](camera-calibration/mono-camera/pinhole-model/pinhole.ipynb)\n",
    "\n",
    "1. Mono-Camera Calibration and Image Rectification\n",
    "    1. [Classic Chessboard Target](camera-calibration/mono-camera/classic/calibration.ipynb)\n",
    "    1. Apriltags Target\n",
    "    1. [Fisheye Lens](camera-calibration/mono-camera/fisheye/calibrate.ipynb)\n",
    "    \n",
    "1. Stereo Cameras\n",
    "    1. Calibration\n",
    "    1. Disparity and Pointclouds\n",
    "\n",
    "1. Image Processing\n",
    "    1. [Colorspace](image-processing/colorspaces/colorspaces.ipynb)\n",
    "    1. [Our Friend Grayscale](image-processing/grayscale/grayscale.ipynb)\n",
    "    1. [Filtering Operations](image-processing/filtering/filtering.ipynb)\n",
    "    1. [Feature Detection](image-processing/feature-dection/feature-detection.ipynb)\n",
    "\n",
    "1. Detection\n",
    "    1. Background\n",
    "    1. [Blob Detection](detection/blob-detection/blob-detection.ipynb)\n",
    "    1. [Color Detection](detection/color-detection/color-detection.ipynb)\n",
    "    1. [Histogram Detection](detection/histogram-detection/histogram-detection.ipynb)\n",
    "    1. Ball Detection\n",
    "\n",
    "1. Compression and Serialization for Transport\n",
    "1. [Homography]()\n",
    "1. Image Stitching\n",
    "1. Structure from Motion (SfM)\n",
    "1. Anaglyphs\n",
    "\n",
    "1. Camera Types\n",
    "    1. Focal Plane Types\n",
    "    1. Event Cameras\n",
    "    1. [Omni-Camera 360$^\\circ$ FOV](cameras/onmicamera/omni-camera.ipynb)\n",
    "    1. [Raspberry Pi Camera v2.1](cameras/picamera/picamera.md)\n",
    "    1. PiCamera and OpenCV\n",
    "\n",
    "1. Markers\n",
    "    1. [Basic Marker Detection](markers/ar-marker-detection/ar-marker-detection.ipynb)\n",
    "    1. Apriltags\n",
    "    1. Acuro\n",
    "    1. [Camera Pose from Markers](markers/pose/pose-from-marker.ipynb)\n",
    "\n",
    "1. Python Libraries\n",
    "    1. skimage\n",
    "    1. [OpenCV](python-libs/opencv/opencv.ipynb)\n",
    "    1. ImageIO"
   ]
  },
  {
   "cell_type": "markdown",
   "id": "senior-fault",
   "metadata": {},
   "source": [
    "\n",
    "-----------\n",
    "\n",
    "<a rel=\"license\" href=\"http://creativecommons.org/licenses/by-sa/4.0/\"><img alt=\"Creative Commons License\" style=\"border-width:0\" src=\"https://i.creativecommons.org/l/by-sa/4.0/88x31.png\" /></a><br />This work is licensed under a <a rel=\"license\" href=\"http://creativecommons.org/licenses/by-sa/4.0/\">Creative Commons Attribution-ShareAlike 4.0 International License</a>."
   ]
  }
 ],
 "metadata": {
  "kernelspec": {
   "display_name": "Python 3",
   "language": "python",
   "name": "python3"
  },
  "language_info": {
   "codemirror_mode": {
    "name": "ipython",
    "version": 3
   },
   "file_extension": ".py",
   "mimetype": "text/x-python",
   "name": "python",
   "nbconvert_exporter": "python",
   "pygments_lexer": "ipython3",
   "version": "3.9.1"
  }
 },
 "nbformat": 4,
 "nbformat_minor": 5
}
