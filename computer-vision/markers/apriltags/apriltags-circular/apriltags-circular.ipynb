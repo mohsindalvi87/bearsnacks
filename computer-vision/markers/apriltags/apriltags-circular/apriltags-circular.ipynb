{
 "cells": [
  {
   "cell_type": "markdown",
   "metadata": {},
   "source": [
    "![](header.jpg)\n",
    "\n",
    "# Circular Apriltags\n",
    "\n",
    "Kevin J. Walchko, Phd\n",
    "\n",
    "27 Feb 2021\n",
    "\n",
    "---\n",
    "\n",
    "Most tags are square and look similar to the well known QR tag. However, there are tags (or markers) that have other shapes and are designed to be easily readable from any rotational orientation.\n",
    "\n",
    "Here, circular apriltags are stored as RGBA (red, green, blue, alpha) PNGs. The alpha layer, which controls opacity of the RGB colors, allows the tag to be easily overlayed onto something else retain a more circular'ish shape. \n",
    "\n",
    "Below, I have read in a circular apriltag and then converted the alpha layer to gray (value 127) and saved it back to a new PNG file. This allows you to see the shape of the actual tag (black and white) easier.\n",
    "\n",
    "![](circ.png)"
   ]
  },
  {
   "cell_type": "code",
   "execution_count": 8,
   "metadata": {},
   "outputs": [],
   "source": [
    "import cv2\n",
    "from pupil_apriltags import Detector\n",
    "import numpy as np\n",
    "from matplotlib import pyplot as plt\n",
    "from pprint import pprint"
   ]
  },
  {
   "cell_type": "code",
   "execution_count": 32,
   "metadata": {},
   "outputs": [
    {
     "data": {
      "image/png": "[encoded data removed]",
      "text/plain": [
       "<Figure size 432x288 with 1 Axes>"
      ]
     },
     "metadata": {
      "needs_background": "light"
     },
     "output_type": "display_data"
    }
   ],
   "source": [
    "# create the image above with alpha = 127\n",
    "tmp = cv2.imread(\"pics/tag49_12_00000.png\", cv2.IMREAD_UNCHANGED)\n",
    "s = 20\n",
    "h,w = tmp.shape[:2]\n",
    "tmp = cv2.resize(tmp, (s*h, s*w), interpolation=cv2.INTER_NEAREST)\n",
    "alpha = tmp[:,:,3] == 0\n",
    "tmp[alpha] = 127\n",
    "\n",
    "cv2.imwrite(\"circ.png\", tmp)\n",
    "\n",
    "plt.imshow(tmp)\n",
    "plt.title(tmp.shape);"
   ]
  },
  {
   "cell_type": "markdown",
   "metadata": {},
   "source": [
    "## Finding Tags\n",
    "\n",
    "A note of **WARNING**, you **MUST** scale up the image for the detector to read it."
   ]
  },
  {
   "cell_type": "code",
   "execution_count": 66,
   "metadata": {},
   "outputs": [],
   "source": [
    "def scale(im, s=1.0):\n",
    "    (h,w) = im.shape\n",
    "    return cv2.resize(im, (s*h, s*w,), interpolation=cv2.INTER_AREA)\n",
    "\n",
    "tagdet = [\n",
    "    \"tagCircle21h7\",\n",
    "    \"tagCircle49h12\",\n",
    "    \"tagCircle21h7\"\n",
    "]\n",
    "\n",
    "tagimgs = [\n",
    "    \"pics/tag21_07_00020.png\",\n",
    "    \"pics/tag49_12_00000.png\",\n",
    "    \"pics/tag21_07_00034.png\"\n",
    "]"
   ]
  },
  {
   "cell_type": "code",
   "execution_count": 55,
   "metadata": {},
   "outputs": [
    {
     "data": {
      "image/png": "[encoded data removed]",
      "text/plain": [
       "<Figure size 432x288 with 1 Axes>"
      ]
     },
     "metadata": {
      "needs_background": "light"
     },
     "output_type": "display_data"
    }
   ],
   "source": [
    "im = cv2.imread(tagimgs[1], cv2.IMREAD_UNCHANGED)\n",
    "\n",
    "# find alpha layer and set to white or convert to grayscale\n",
    "alpha = im[:,:,3] == 0\n",
    "im[alpha] = 255\n",
    "im = cv2.cvtColor(im, cv2.COLOR_BGRA2GRAY)\n",
    "\n",
    "# scale to a larger size\n",
    "im = scale(im, 200)\n",
    "\n",
    "plt.imshow(im, cmap=\"gray\")\n",
    "plt.title(im.shape);"
   ]
  },
  {
   "cell_type": "code",
   "execution_count": 56,
   "metadata": {},
   "outputs": [
    {
     "name": "stdout",
     "output_type": "stream",
     "text": [
      ">> 1 tags found\n",
      "----------------------------------------\n",
      "Detection object:\n",
      "tag_family = b'tagCircle49h12'\n",
      "tag_id = 0\n",
      "hamming = 0\n",
      "decision_margin = 121.42857360839844\n",
      "homography = [[ 5.00072902e+02 -2.97457532e-01  1.09999269e+03]\n",
      " [ 1.57080242e-02  4.99685892e+02  1.09973532e+03]\n",
      " [ 1.82469296e-05 -2.87415358e-04  1.00000000e+00]]\n",
      "center = [1099.99268534 1099.73531998]\n",
      "corners = [[ 599.80566406 1599.89453125]\n",
      " [1600.19885254 1599.86755371]\n",
      " [1599.87402344  599.8817749 ]\n",
      " [ 600.0557251   599.87225342]]\n",
      "pose_R = None\n",
      "pose_t = None\n",
      "pose_err = None\n",
      "\n",
      "----------------------------------------\n"
     ]
    }
   ],
   "source": [
    "d = Detector(families=tagdet[1],\n",
    "        nthreads=1,\n",
    "        quad_decimate=1.0,\n",
    "        quad_sigma=0.0,\n",
    "        refine_edges=1,\n",
    "        decode_sharpening=0.25,\n",
    "        debug=0)\n",
    "\n",
    "tags = d.detect(\n",
    "    im, \n",
    "    estimate_tag_pose=False, \n",
    "    camera_params=None, \n",
    "    tag_size=None)\n",
    "\n",
    "print(f\">> {len(tags)} tags found\")\n",
    "for t in tags:\n",
    "    print(\"-\"*40)\n",
    "    pprint(t)\n",
    "print(\"-\"*40)"
   ]
  },
  {
   "cell_type": "markdown",
   "metadata": {},
   "source": [
    "## Fin Others"
   ]
  },
  {
   "cell_type": "code",
   "execution_count": 64,
   "metadata": {},
   "outputs": [],
   "source": [
    "def go(num):\n",
    "    print(f\"{tagdet[num]} --------------------\")\n",
    "    d = Detector(families=tagdet[num],\n",
    "            nthreads=1,\n",
    "            quad_decimate=1.0,\n",
    "            quad_sigma=0.0,\n",
    "            refine_edges=1,\n",
    "            decode_sharpening=0.25,\n",
    "            debug=0)\n",
    "\n",
    "    im = cv2.imread(tagimgs[num], 0)\n",
    "\n",
    "    # scale to a larger size\n",
    "    im = scale(im, 20)\n",
    "\n",
    "    plt.imshow(im, cmap=\"gray\")\n",
    "    plt.title(im.shape);\n",
    "\n",
    "    tags = d.detect(\n",
    "        im, \n",
    "        estimate_tag_pose=False, \n",
    "        camera_params=None, \n",
    "        tag_size=None)\n",
    "\n",
    "    print(f\">> {len(tags)} tags found\")\n",
    "    for t in tags:\n",
    "        print(\"-\"*40)\n",
    "        pprint(t)\n",
    "    print(\"-\"*40)"
   ]
  },
  {
   "cell_type": "code",
   "execution_count": 65,
   "metadata": {},
   "outputs": [
    {
     "name": "stdout",
     "output_type": "stream",
     "text": [
      "tagCircle21h7 --------------------\n",
      ">> 1 tags found\n",
      "----------------------------------------\n",
      "Detection object:\n",
      "tag_family = b'tagCircle21h7'\n",
      "tag_id = 20\n",
      "hamming = 0\n",
      "decision_margin = 114.75\n",
      "homography = [[ 4.99999966e+01  6.12323358e-15  8.98749981e+01]\n",
      " [-5.33580781e-06  5.00000000e+01  8.98750000e+01]\n",
      " [-3.81469727e-08 -4.67165680e-24  1.00000000e+00]]\n",
      "center = [89.87499809 89.875     ]\n",
      "corners = [[ 39.875      139.875     ]\n",
      " [139.875      139.875     ]\n",
      " [139.875       39.87499619]\n",
      " [ 39.875       39.87500381]]\n",
      "pose_R = None\n",
      "pose_t = None\n",
      "pose_err = None\n",
      "\n",
      "----------------------------------------\n"
     ]
    },
    {
     "data": {
      "image/png": "[encoded data removed]",
      "text/plain": [
       "<Figure size 432x288 with 1 Axes>"
      ]
     },
     "metadata": {
      "needs_background": "light"
     },
     "output_type": "display_data"
    }
   ],
   "source": [
    "go(0)"
   ]
  },
  {
   "cell_type": "code",
   "execution_count": 62,
   "metadata": {},
   "outputs": [
    {
     "name": "stdout",
     "output_type": "stream",
     "text": [
      "tagCircle49h12 --------------------\n",
      ">> 1 tags found\n",
      "----------------------------------------\n",
      "Detection object:\n",
      "tag_family = b'tagCircle49h12'\n",
      "tag_id = 0\n",
      "hamming = 0\n",
      "decision_margin = 121.42857360839844\n",
      "homography = [[ 5.00230506e+01 -4.49635244e-02  1.09896914e+02]\n",
      " [ 4.49643573e-02  4.99613095e+01  1.09868727e+02]\n",
      " [ 2.81246957e-04 -2.81241748e-04  1.00000000e+00]]\n",
      "center = [109.89691379 109.86872699]\n",
      "corners = [[ 59.86257172 159.875     ]\n",
      " [159.875      159.875     ]\n",
      " [159.875       59.91867828]\n",
      " [ 59.91882706  59.86245346]]\n",
      "pose_R = None\n",
      "pose_t = None\n",
      "pose_err = None\n",
      "\n",
      "----------------------------------------\n"
     ]
    },
    {
     "data": {
      "image/png": "[encoded data removed]",
      "text/plain": [
       "<Figure size 432x288 with 1 Axes>"
      ]
     },
     "metadata": {
      "needs_background": "light"
     },
     "output_type": "display_data"
    }
   ],
   "source": [
    "go(1)"
   ]
  },
  {
   "cell_type": "code",
   "execution_count": 67,
   "metadata": {},
   "outputs": [
    {
     "name": "stdout",
     "output_type": "stream",
     "text": [
      "tagCircle21h7 --------------------\n",
      ">> 1 tags found\n",
      "----------------------------------------\n",
      "Detection object:\n",
      "tag_family = b'tagCircle21h7'\n",
      "tag_id = 34\n",
      "hamming = 0\n",
      "decision_margin = 115.90908813476562\n",
      "homography = [[ 4.99999966e+01  6.12323358e-15  8.98749981e+01]\n",
      " [-5.33580781e-06  5.00000000e+01  8.98750000e+01]\n",
      " [-3.81469727e-08 -4.67165680e-24  1.00000000e+00]]\n",
      "center = [89.87499809 89.875     ]\n",
      "corners = [[ 39.875      139.875     ]\n",
      " [139.875      139.875     ]\n",
      " [139.875       39.87499619]\n",
      " [ 39.875       39.87500381]]\n",
      "pose_R = None\n",
      "pose_t = None\n",
      "pose_err = None\n",
      "\n",
      "----------------------------------------\n"
     ]
    },
    {
     "data": {
      "image/png": "[encoded data removed]",
      "text/plain": [
       "<Figure size 432x288 with 1 Axes>"
      ]
     },
     "metadata": {
      "needs_background": "light"
     },
     "output_type": "display_data"
    }
   ],
   "source": [
    "go(2)"
   ]
  },
  {
   "cell_type": "code",
   "execution_count": null,
   "metadata": {},
   "outputs": [],
   "source": []
  }
 ],
 "metadata": {
  "kernelspec": {
   "display_name": "Python 3",
   "language": "python",
   "name": "python3"
  },
  "language_info": {
   "codemirror_mode": {
    "name": "ipython",
    "version": 3
   },
   "file_extension": ".py",
   "mimetype": "text/x-python",
   "name": "python",
   "nbconvert_exporter": "python",
   "pygments_lexer": "ipython3",
   "version": "3.9.1"
  }
 },
 "nbformat": 4,
 "nbformat_minor": 4
}
