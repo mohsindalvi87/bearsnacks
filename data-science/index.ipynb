{
 "cells": [
  {
   "cell_type": "markdown",
   "id": "missing-distributor",
   "metadata": {},
   "source": [
    "![](header.jpg)\n",
    "\n",
    "# Data Science\n",
    "\n",
    "Kevin J. Walchko, Phd\n",
    "\n",
    "---\n",
    "\n",
    "1. [Pandas Basics](basics/pandas-basics.ipynb)\n",
    "    1. [cheatsheet](cheatsheet.pdf)\n",
    "1. [Plotting with Pandas](plotting/pandas-plotting.ipynb)\n",
    "1. [Pivot Tables](pivot-table/pandas-pivot-table.ipynb)\n",
    "1. [Seaborne](seaborne/pandas-sns.ipynb)\n"
   ]
  },
  {
   "cell_type": "markdown",
   "id": "exotic-attendance",
   "metadata": {},
   "source": [
    "<a rel=\"license\" href=\"http://creativecommons.org/licenses/by-sa/4.0/\"><img alt=\"Creative Commons License\" style=\"border-width:0\" src=\"https://i.creativecommons.org/l/by-sa/4.0/88x31.png\" /></a>"
   ]
  }
 ],
 "metadata": {
  "kernelspec": {
   "display_name": "Python 3",
   "language": "python",
   "name": "python3"
  },
  "language_info": {
   "codemirror_mode": {
    "name": "ipython",
    "version": 3
   },
   "file_extension": ".py",
   "mimetype": "text/x-python",
   "name": "python",
   "nbconvert_exporter": "python",
   "pygments_lexer": "ipython3",
   "version": "3.9.1"
  }
 },
 "nbformat": 4,
 "nbformat_minor": 5
}
