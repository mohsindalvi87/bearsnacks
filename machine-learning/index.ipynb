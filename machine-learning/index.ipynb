{
 "cells": [
  {
   "cell_type": "markdown",
   "id": "sapphire-paradise",
   "metadata": {},
   "source": [
    "![](header.jpg)\n",
    "\n",
    "# Machine Learning\n",
    "\n",
    "Kevin J. Walchko, Phd\n",
    "\n",
    "---\n",
    "\n",
    "1. Preprocessing\n",
    "1. Classification\n",
    "1. Regression\n",
    "1. \n"
   ]
  },
  {
   "cell_type": "markdown",
   "id": "different-panel",
   "metadata": {},
   "source": [
    "\n",
    "-----------\n",
    "\n",
    "<a rel=\"license\" href=\"http://creativecommons.org/licenses/by-sa/4.0/\"><img alt=\"Creative Commons License\" style=\"border-width:0\" src=\"https://i.creativecommons.org/l/by-sa/4.0/88x31.png\" /></a><br />This work is licensed under a <a rel=\"license\" href=\"http://creativecommons.org/licenses/by-sa/4.0/\">Creative Commons Attribution-ShareAlike 4.0 International License</a>."
   ]
  }
 ],
 "metadata": {
  "kernelspec": {
   "display_name": "Python 3",
   "language": "python",
   "name": "python3"
  },
  "language_info": {
   "codemirror_mode": {
    "name": "ipython",
    "version": 3
   },
   "file_extension": ".py",
   "mimetype": "text/x-python",
   "name": "python",
   "nbconvert_exporter": "python",
   "pygments_lexer": "ipython3",
   "version": "3.9.1"
  }
 },
 "nbformat": 4,
 "nbformat_minor": 5
}
