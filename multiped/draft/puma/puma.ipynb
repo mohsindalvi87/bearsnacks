{
 "cells": [
  {
   "cell_type": "markdown",
   "metadata": {},
   "source": [
    "![](header.jpg)\n",
    "\n",
    "# Puma Example\n",
    "\n",
    "Kevin Walchko\n",
    "\n",
    "created 7 Nov 2017\n",
    "\n",
    "---\n",
    "\n",
    "<img src=\"puma.png\" width=\"400px\">\n",
    "\n",
    "Puma robot is an old, but classical serial manipulator. You can see Criag's example in section 3.7, pg 77. Once you have the DH parameters, you can use the above matrix to find the forward kinematics,"
   ]
  },
  {
   "cell_type": "code",
   "execution_count": 2,
   "metadata": {},
   "outputs": [],
   "source": [
    "import numpy as np\n",
    "import sympy\n",
    "from sympy import symbols, sin, cos, pi, simplify\n",
    "\n",
    "def makeT(a, alpha, d, theta):\n",
    "    # create a modified DH homogenious matrix\n",
    "    return np.array([\n",
    "        [           cos(theta),           -sin(theta),           0,             a],\n",
    "        [sin(theta)*cos(alpha), cos(theta)*cos(alpha), -sin(alpha), -d*sin(alpha)],\n",
    "        [sin(theta)*sin(alpha), cos(theta)*sin(alpha),  cos(alpha),  d*cos(alpha)],\n",
    "        [                    0,                     0,           0,             1]\n",
    "    ])\n",
    "\n",
    "def simplifyT(tt):\n",
    "    \"\"\"\n",
    "    This goes through each element of a matrix and tries to simplify it.\n",
    "    \"\"\"\n",
    "    for i, row in enumerate(tt):\n",
    "        for j, col in enumerate(row):\n",
    "            tt[i,j] = simplify(col)\n",
    "    return tt"
   ]
  },
  {
   "cell_type": "code",
   "execution_count": 6,
   "metadata": {},
   "outputs": [
    {
     "data": {
      "text/plain": [
       "array([[(((-1.0*sin(t2)*sin(t3)*cos(t1) + 1.0*cos(t1)*cos(t2)*cos(t3))*cos(t4) + 1.0*sin(t1)*sin(t4))*cos(t5) + (-1.0*sin(t2)*cos(t1)*cos(t3) - 1.0*sin(t3)*cos(t1)*cos(t2))*sin(t5))*cos(t6) - ((-1.0*sin(t2)*sin(t3)*cos(t1) + 1.0*cos(t1)*cos(t2)*cos(t3))*sin(t4) - 1.0*sin(t1)*cos(t4))*sin(t6),\n",
       "        -(((-1.0*sin(t2)*sin(t3)*cos(t1) + 1.0*cos(t1)*cos(t2)*cos(t3))*cos(t4) + 1.0*sin(t1)*sin(t4))*cos(t5) + (-1.0*sin(t2)*cos(t1)*cos(t3) - 1.0*sin(t3)*cos(t1)*cos(t2))*sin(t5))*sin(t6) - ((-1.0*sin(t2)*sin(t3)*cos(t1) + 1.0*cos(t1)*cos(t2)*cos(t3))*sin(t4) - 1.0*sin(t1)*cos(t4))*cos(t6),\n",
       "        -((-1.0*sin(t2)*sin(t3)*cos(t1) + 1.0*cos(t1)*cos(t2)*cos(t3))*cos(t4) + 1.0*sin(t1)*sin(t4))*sin(t5) + (-1.0*sin(t2)*cos(t1)*cos(t3) - 1.0*sin(t3)*cos(t1)*cos(t2))*cos(t5),\n",
       "        1.0*a2*cos(t1)*cos(t2) + a3*(-1.0*sin(t2)*sin(t3)*cos(t1) + 1.0*cos(t1)*cos(t2)*cos(t3)) - 1.0*d3*sin(t1) + d4*(-1.0*sin(t2)*cos(t1)*cos(t3) - 1.0*sin(t3)*cos(t1)*cos(t2))],\n",
       "       [(((-1.0*sin(t1)*sin(t2)*sin(t3) + 1.0*sin(t1)*cos(t2)*cos(t3))*cos(t4) - 1.0*sin(t4)*cos(t1))*cos(t5) + (-1.0*sin(t1)*sin(t2)*cos(t3) - 1.0*sin(t1)*sin(t3)*cos(t2))*sin(t5))*cos(t6) - ((-1.0*sin(t1)*sin(t2)*sin(t3) + 1.0*sin(t1)*cos(t2)*cos(t3))*sin(t4) + 1.0*cos(t1)*cos(t4))*sin(t6),\n",
       "        -(((-1.0*sin(t1)*sin(t2)*sin(t3) + 1.0*sin(t1)*cos(t2)*cos(t3))*cos(t4) - 1.0*sin(t4)*cos(t1))*cos(t5) + (-1.0*sin(t1)*sin(t2)*cos(t3) - 1.0*sin(t1)*sin(t3)*cos(t2))*sin(t5))*sin(t6) - ((-1.0*sin(t1)*sin(t2)*sin(t3) + 1.0*sin(t1)*cos(t2)*cos(t3))*sin(t4) + 1.0*cos(t1)*cos(t4))*cos(t6),\n",
       "        -((-1.0*sin(t1)*sin(t2)*sin(t3) + 1.0*sin(t1)*cos(t2)*cos(t3))*cos(t4) - 1.0*sin(t4)*cos(t1))*sin(t5) + (-1.0*sin(t1)*sin(t2)*cos(t3) - 1.0*sin(t1)*sin(t3)*cos(t2))*cos(t5),\n",
       "        1.0*a2*sin(t1)*cos(t2) + a3*(-1.0*sin(t1)*sin(t2)*sin(t3) + 1.0*sin(t1)*cos(t2)*cos(t3)) + 1.0*d3*cos(t1) + d4*(-1.0*sin(t1)*sin(t2)*cos(t3) - 1.0*sin(t1)*sin(t3)*cos(t2))],\n",
       "       [((1.0*sin(t2)*sin(t3) - 1.0*cos(t2)*cos(t3))*sin(t5) + (-1.0*sin(t2)*cos(t3) - 1.0*sin(t3)*cos(t2))*cos(t4)*cos(t5))*cos(t6) - (-1.0*sin(t2)*cos(t3) - 1.0*sin(t3)*cos(t2))*sin(t4)*sin(t6),\n",
       "        -((1.0*sin(t2)*sin(t3) - 1.0*cos(t2)*cos(t3))*sin(t5) + (-1.0*sin(t2)*cos(t3) - 1.0*sin(t3)*cos(t2))*cos(t4)*cos(t5))*sin(t6) - (-1.0*sin(t2)*cos(t3) - 1.0*sin(t3)*cos(t2))*sin(t4)*cos(t6),\n",
       "        (1.0*sin(t2)*sin(t3) - 1.0*cos(t2)*cos(t3))*cos(t5) - (-1.0*sin(t2)*cos(t3) - 1.0*sin(t3)*cos(t2))*sin(t5)*cos(t4),\n",
       "        -1.0*a2*sin(t2) + a3*(-1.0*sin(t2)*cos(t3) - 1.0*sin(t3)*cos(t2)) + d4*(1.0*sin(t2)*sin(t3) - 1.0*cos(t2)*cos(t3))],\n",
       "       [0, 0, 0, 1.00000000000000]], dtype=object)"
      ]
     },
     "execution_count": 6,
     "metadata": {},
     "output_type": "execute_result"
    }
   ],
   "source": [
    "# craig puma\n",
    "t1,t2,t3,t4,t5,t6 = symbols('t1 t2 t3 t4 t5 t6')\n",
    "a2, a3, d3, d4 = symbols('a2 a3 d3 d4')\n",
    "\n",
    "T1 = makeT(0,0,0,t1)\n",
    "T2 = makeT(0,-pi/2,0,t2)\n",
    "T3 = makeT(a2,0,d3,t3)\n",
    "T4 = makeT(a3,-pi/2,d4,t4)\n",
    "T5 = makeT(0,pi/2,0,t5)\n",
    "T6 = makeT(0,-pi/2,0,t6)\n",
    "\n",
    "ans = np.eye(4)\n",
    "for T in [T1, T2, T3, T4, T5, T6]:\n",
    "    ans = ans.dot(T)\n",
    "\n",
    "ans"
   ]
  },
  {
   "cell_type": "code",
   "execution_count": 4,
   "metadata": {},
   "outputs": [
    {
     "data": {
      "text/plain": [
       "array([[1.0*((sin(t1)*sin(t4) + cos(t1)*cos(t4)*cos(t2 + t3))*cos(t5) - sin(t5)*sin(t2 + t3)*cos(t1))*cos(t6) + 1.0*(sin(t1)*cos(t4) - sin(t4)*cos(t1)*cos(t2 + t3))*sin(t6),\n",
       "        1.0*(-(sin(t1)*sin(t4) + cos(t1)*cos(t4)*cos(t2 + t3))*cos(t5) + sin(t5)*sin(t2 + t3)*cos(t1))*sin(t6) + 1.0*(sin(t1)*cos(t4) - sin(t4)*cos(t1)*cos(t2 + t3))*cos(t6),\n",
       "        -1.0*(sin(t1)*sin(t4) + cos(t1)*cos(t4)*cos(t2 + t3))*sin(t5) - 1.0*sin(t2 + t3)*cos(t1)*cos(t5),\n",
       "        1.0*a2*cos(t1)*cos(t2) + 1.0*a3*cos(t1)*cos(t2 + t3) - 1.0*d3*sin(t1) - 1.0*d4*sin(t2 + t3)*cos(t1)],\n",
       "       [1.0*((sin(t1)*cos(t4)*cos(t2 + t3) - sin(t4)*cos(t1))*cos(t5) - sin(t1)*sin(t5)*sin(t2 + t3))*cos(t6) - 1.0*(sin(t1)*sin(t4)*cos(t2 + t3) + cos(t1)*cos(t4))*sin(t6),\n",
       "        1.0*((-sin(t1)*cos(t4)*cos(t2 + t3) + sin(t4)*cos(t1))*cos(t5) + sin(t1)*sin(t5)*sin(t2 + t3))*sin(t6) - 1.0*(sin(t1)*sin(t4)*cos(t2 + t3) + cos(t1)*cos(t4))*cos(t6),\n",
       "        1.0*(-sin(t1)*cos(t4)*cos(t2 + t3) + sin(t4)*cos(t1))*sin(t5) - 1.0*sin(t1)*sin(t2 + t3)*cos(t5),\n",
       "        1.0*a2*sin(t1)*cos(t2) + 1.0*a3*sin(t1)*cos(t2 + t3) + 1.0*d3*cos(t1) - 1.0*d4*sin(t1)*sin(t2 + t3)],\n",
       "       [-1.0*(sin(t5)*cos(t2 + t3) + sin(t2 + t3)*cos(t4)*cos(t5))*cos(t6) + 1.0*sin(t4)*sin(t6)*sin(t2 + t3),\n",
       "        1.0*(sin(t5)*cos(t2 + t3) + sin(t2 + t3)*cos(t4)*cos(t5))*sin(t6) + 1.0*sin(t4)*sin(t2 + t3)*cos(t6),\n",
       "        1.0*sin(t5)*sin(t2 + t3)*cos(t4) - 1.0*cos(t5)*cos(t2 + t3),\n",
       "        -1.0*a2*sin(t2) - 1.0*a3*sin(t2 + t3) - 1.0*d4*cos(t2 + t3)],\n",
       "       [0, 0, 0, 1.00000000000000]], dtype=object)"
      ]
     },
     "execution_count": 4,
     "metadata": {},
     "output_type": "execute_result"
    }
   ],
   "source": [
    "ans = simplifyT(ans)\n",
    "ans"
   ]
  },
  {
   "cell_type": "code",
   "execution_count": 5,
   "metadata": {},
   "outputs": [
    {
     "name": "stdout",
     "output_type": "stream",
     "text": [
      "position x: 1.0*a2*cos(t1)*cos(t2) + 1.0*a3*cos(t1)*cos(t2 + t3) - 1.0*d3*sin(t1) - 1.0*d4*sin(t2 + t3)*cos(t1)\n",
      "position y: 1.0*a2*sin(t1)*cos(t2) + 1.0*a3*sin(t1)*cos(t2 + t3) + 1.0*d3*cos(t1) - 1.0*d4*sin(t1)*sin(t2 + t3)\n",
      "position z: -1.0*a2*sin(t2) - 1.0*a3*sin(t2 + t3) - 1.0*d4*cos(t2 + t3)\n"
     ]
    }
   ],
   "source": [
    "print(f'position x: {ans[0,3]}')\n",
    "print(f'position y: {ans[1,3]}')\n",
    "print(f'position z: {ans[2,3]}')"
   ]
  },
  {
   "cell_type": "markdown",
   "metadata": {},
   "source": [
    "Looking at the position, this is the same position listed in Craig, eqn 3.14.\n",
    "\n",
    "Also, **this is the simplified version!!!**. As you get more joints and degrees of freedom, the equations get nastier. You also can run into situations where you end up with singularities (like division by zero) and send your robot into a bad place!"
   ]
  }
 ],
 "metadata": {
  "kernelspec": {
   "display_name": "Python 3",
   "language": "python",
   "name": "python3"
  },
  "language_info": {
   "codemirror_mode": {
    "name": "ipython",
    "version": 3
   },
   "file_extension": ".py",
   "mimetype": "text/x-python",
   "name": "python",
   "nbconvert_exporter": "python",
   "pygments_lexer": "ipython3",
   "version": "3.9.1"
  }
 },
 "nbformat": 4,
 "nbformat_minor": 2
}
