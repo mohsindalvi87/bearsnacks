{
 "cells": [
  {
   "cell_type": "markdown",
   "id": "endless-paris",
   "metadata": {},
   "source": [
    "![]()\n",
    "\n",
    "# INS Vis\n",
    "\n",
    "## References\n",
    "\n",
    "- Matlab: [insfilternonholonomic](https://www.mathworks.com/help/fusion/ref/insfilternonholonomic.html)\n",
    "- Matlab: [insfilterMARG](https://www.mathworks.com/help/fusion/ref/insfiltermarg.html)\n",
    "- Matlab: [imuSensor for simulation](https://www.mathworks.com/help/fusion/ref/imusensor-system-object.html)\n",
    "\n",
    "## NED Equations\n",
    "\n",
    "$$\n",
    "\\begin{bmatrix} q_{k+1} & p_{k+1} & v_{k+1} \\end{bmatrix}^T = x_{k+1} = f(x_k,a,\\omega) \\\\\n",
    "\\tilde W  = Quaternion(\\omega-\\omega_{bias}) \\\\\n",
    "q_{k+1} = q_k + \\frac{\\Delta t}{2} q_k \\otimes \\tilde W \\\\\n",
    "p_{k+1} = p_k + v_k \\Delta t \\\\\n",
    "v_{k+1} = v_k + q_k \\otimes (a - a_{bias}) \\otimes q_k^* \\Delta t - g_{NED}\n",
    "$$"
   ]
  },
  {
   "cell_type": "code",
   "execution_count": null,
   "id": "partial-statement",
   "metadata": {},
   "outputs": [],
   "source": []
  }
 ],
 "metadata": {
  "kernelspec": {
   "display_name": "Python 3",
   "language": "python",
   "name": "python3"
  },
  "language_info": {
   "codemirror_mode": {
    "name": "ipython",
    "version": 3
   },
   "file_extension": ".py",
   "mimetype": "text/x-python",
   "name": "python",
   "nbconvert_exporter": "python",
   "pygments_lexer": "ipython3",
   "version": "3.9.1"
  }
 },
 "nbformat": 4,
 "nbformat_minor": 5
}
