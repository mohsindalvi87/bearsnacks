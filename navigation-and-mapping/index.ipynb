{
 "cells": [
  {
   "cell_type": "markdown",
   "id": "portable-parks",
   "metadata": {},
   "source": [
    "![](header.jpg)\n",
    "\n",
    "# Navigation and Mapping\n",
    "\n",
    "Kevin J. Walchko, Phd\n",
    "\n",
    "---\n",
    "\n",
    "1. [Euler and Quaternion Rotations](euler-quaternion/euler-quaternion.ipynb)\n",
    "1. Filters\n",
    "    1. [Mahony](filters/ahrs/mahony.ipynb)\n",
    "    1. [Madgwick](filters/ahrs/madgwick.ipynb)\n",
    "    1. [Extended Kalman Filter](filters/ins-equations/ins-equations.ipynb)\n",
    "1. Calibrations\n",
    "    1. Accelerometers\n",
    "    1. Magnetomgeters\n",
    "    1. Gyroscopes\n",
    "1. Sensors\n",
    "    1. [BNO055 9DOF IMU](sensors/bno055/bno055.ipynb)\n",
    "    1. BNO085\n",
    "    1. [Pressure Sensors](sensors/pressure-sensor/pressure-sensor.ipynb)\n",
    "    1. [GPS](sensors/gps/gps.ipynb)\n",
    "1. Video Odometry\n",
    "    1. [Mono Video Odometry](video-odometry/mono-odometry/mono-odometry.ipynb)\n",
    "    1. [Stereo Video Odometry](video-odometry/stereo-odometry/stereo-odometry.ipynb)\n",
    "    1. [KITTI Dataset](video-odometry/kitti/kitti.ipynb)\n",
    "1. Path Planning\n",
    "    1. [A-Star](a-star/a-star.ipynb)"
   ]
  },
  {
   "cell_type": "markdown",
   "id": "threaded-injection",
   "metadata": {},
   "source": [
    "\n",
    "-----------\n",
    "\n",
    "<a rel=\"license\" href=\"http://creativecommons.org/licenses/by-sa/4.0/\"><img alt=\"Creative Commons License\" style=\"border-width:0\" src=\"https://i.creativecommons.org/l/by-sa/4.0/88x31.png\" /></a><br />This work is licensed under a <a rel=\"license\" href=\"http://creativecommons.org/licenses/by-sa/4.0/\">Creative Commons Attribution-ShareAlike 4.0 International License</a>."
   ]
  }
 ],
 "metadata": {
  "kernelspec": {
   "display_name": "Python 3",
   "language": "python",
   "name": "python3"
  },
  "language_info": {
   "codemirror_mode": {
    "name": "ipython",
    "version": 3
   },
   "file_extension": ".py",
   "mimetype": "text/x-python",
   "name": "python",
   "nbconvert_exporter": "python",
   "pygments_lexer": "ipython3",
   "version": "3.9.1"
  }
 },
 "nbformat": 4,
 "nbformat_minor": 5
}
