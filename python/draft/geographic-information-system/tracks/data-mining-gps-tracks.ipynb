{
 "cells": [
  {
   "cell_type": "markdown",
   "metadata": {},
   "source": [
    "![](header.jpg)\n",
    "\n",
    "# Data Mining GPS Tracks\n",
    "\n",
    "Kevin J. Walchko\n",
    "\n",
    "24 Apr 2020\n",
    "\n",
    "---\n",
    "\n",
    "## Data Set Information:\n",
    "\n",
    "[![](https://archive.ics.uci.edu/ml/assets/logo.gif)](https://archive.ics.uci.edu/ml/datasets/GPS+Trajectories)\n",
    "\n",
    "<table border=\"1\" cellpadding=\"6\">\n",
    "\t<tbody><tr>\n",
    "\t\t<td bgcolor=\"#DDEEFF\"><p class=\"normal\"><b>Data Set Characteristics:&nbsp;&nbsp;</b></p></td>\n",
    "\t\t<td><p class=\"normal\">Multivariate</p></td>\n",
    "\t\t<td bgcolor=\"#DDEEFF\"><p class=\"normal\"><b>Number of Instances:</b></p></td>\n",
    "\t\t<td><p class=\"normal\">163</p></td>\n",
    "\t\t<td bgcolor=\"#DDEEFF\"><p class=\"normal\"><b>Area:</b></p></td>\n",
    "\t\t<td><p class=\"normal\">Computer</p></td>\n",
    "\t</tr>\n",
    "\t<tr>\n",
    "\t\t<td bgcolor=\"#DDEEFF\"><p class=\"normal\"><b>Attribute Characteristics:</b></p></td>\n",
    "\t\t<td><p class=\"normal\">Real</p></td>\n",
    "\t\t<td bgcolor=\"#DDEEFF\"><p class=\"normal\"><b>Number of Attributes:</b></p></td>\n",
    "\t\t<td><p class=\"normal\">15</p></td>\n",
    "\t\t<td bgcolor=\"#DDEEFF\"><p class=\"normal\"><b>Date Donated</b></p></td>\n",
    "\t\t<td><p class=\"normal\">2016-02-29</p></td>\n",
    "\t</tr>\n",
    "\t<tr>\n",
    "\t\t<td bgcolor=\"#DDEEFF\"><p class=\"normal\"><b>Associated Tasks:</b></p></td>\n",
    "\t\t<td><p class=\"normal\">Classification, Regression</p></td>\n",
    "\t\t<td bgcolor=\"#DDEEFF\"><p class=\"normal\"><b>Missing Values?</b></p></td>\n",
    "\t\t<td><p class=\"normal\">Yes</p></td>\n",
    "\t\t<td bgcolor=\"#DDEEFF\"><p class=\"normal\"><b>Number of Web Hits:</b></p></td>\n",
    "\t\t<td><p class=\"normal\">103485</p></td>\n",
    "\t</tr></tbody>\n",
    "</table>\n",
    "\n",
    "\n",
    "The dataset is composed by two tables. The first table `go_track_tracks` presents general attributes and each instance has one trajectory that is represented by the table `go_track_trackspoints`.\n",
    "\n",
    "\n",
    "### Attribute Information:\n",
    "\n",
    "1. `go_track_tracks.csv`: a list of trajectories\n",
    "    - id_android - it represents the device used to capture the instance;\n",
    "    - speed - it represents the average speed (Km/H)\n",
    "    - distance - it represent the total distance (Km)\n",
    "    - rating - it is an evaluation parameter. Evaluation the traffic is a way to verify the volunteers perception about the traffic during the travel, in other words, if volunteers move to some place and face traffic jam, maybe they will evaluate 'bad'. (3- good, 2- normal, 1-bad).\n",
    "    - rating_bus - it is other evaluation parameter. (1 - The amount of people inside the bus is little, 2 - The bus is not crowded, 3- The bus is crowded.\n",
    "    - rating_weather - it is another evaluation parameter. ( 2- sunny, 1- raining).\n",
    "    - car_or_bus - (1 - car, 2-bus)\n",
    "    - linha - information about the bus that does the pathway\n",
    "2. `go_track_trackspoints.csv`: localization points of each trajectory\n",
    "    - id: unique key to identify each point\n",
    "    - latitude: latitude from where the point is\n",
    "    - longitude: longitude from where the point is\n",
    "    - track_id: identify the trajectory which the point belong\n",
    "    - time: datetime when the point was collected (GMT-3)\n",
    "\n",
    "## References\n",
    "\n",
    "- Stackexchange: [Matching GPS tracks](https://gis.stackexchange.com/a/81736)\n",
    "- [GPS data from UCI](https://archive.ics.uci.edu/ml/datasets/GPS+Trajectories)"
   ]
  },
  {
   "cell_type": "code",
   "execution_count": 1,
   "metadata": {},
   "outputs": [],
   "source": [
    "import pandas as pd\n",
    "import matplotlib.pyplot as plt\n",
    "import numpy as np"
   ]
  },
  {
   "cell_type": "code",
   "execution_count": 2,
   "metadata": {},
   "outputs": [
    {
     "data": {
      "text/html": [
       "<div>\n",
       "<style scoped>\n",
       "    .dataframe tbody tr th:only-of-type {\n",
       "        vertical-align: middle;\n",
       "    }\n",
       "\n",
       "    .dataframe tbody tr th {\n",
       "        vertical-align: top;\n",
       "    }\n",
       "\n",
       "    .dataframe thead th {\n",
       "        text-align: right;\n",
       "    }\n",
       "</style>\n",
       "<table border=\"1\" class=\"dataframe\">\n",
       "  <thead>\n",
       "    <tr style=\"text-align: right;\">\n",
       "      <th></th>\n",
       "      <th>id</th>\n",
       "      <th>latitude</th>\n",
       "      <th>longitude</th>\n",
       "      <th>track_id</th>\n",
       "      <th>time</th>\n",
       "    </tr>\n",
       "  </thead>\n",
       "  <tbody>\n",
       "    <tr>\n",
       "      <th>0</th>\n",
       "      <td>1</td>\n",
       "      <td>-10.939341</td>\n",
       "      <td>-37.062742</td>\n",
       "      <td>1</td>\n",
       "      <td>2014-09-13 07:24:32</td>\n",
       "    </tr>\n",
       "    <tr>\n",
       "      <th>1</th>\n",
       "      <td>2</td>\n",
       "      <td>-10.939341</td>\n",
       "      <td>-37.062742</td>\n",
       "      <td>1</td>\n",
       "      <td>2014-09-13 07:24:37</td>\n",
       "    </tr>\n",
       "    <tr>\n",
       "      <th>2</th>\n",
       "      <td>3</td>\n",
       "      <td>-10.939324</td>\n",
       "      <td>-37.062765</td>\n",
       "      <td>1</td>\n",
       "      <td>2014-09-13 07:24:42</td>\n",
       "    </tr>\n",
       "    <tr>\n",
       "      <th>3</th>\n",
       "      <td>4</td>\n",
       "      <td>-10.939211</td>\n",
       "      <td>-37.062843</td>\n",
       "      <td>1</td>\n",
       "      <td>2014-09-13 07:24:47</td>\n",
       "    </tr>\n",
       "    <tr>\n",
       "      <th>4</th>\n",
       "      <td>5</td>\n",
       "      <td>-10.938939</td>\n",
       "      <td>-37.062879</td>\n",
       "      <td>1</td>\n",
       "      <td>2014-09-13 07:24:53</td>\n",
       "    </tr>\n",
       "    <tr>\n",
       "      <th>5</th>\n",
       "      <td>6</td>\n",
       "      <td>-10.938544</td>\n",
       "      <td>-37.062839</td>\n",
       "      <td>1</td>\n",
       "      <td>2014-09-13 07:24:59</td>\n",
       "    </tr>\n",
       "    <tr>\n",
       "      <th>6</th>\n",
       "      <td>7</td>\n",
       "      <td>-10.938346</td>\n",
       "      <td>-37.062588</td>\n",
       "      <td>1</td>\n",
       "      <td>2014-09-13 07:25:04</td>\n",
       "    </tr>\n",
       "    <tr>\n",
       "      <th>7</th>\n",
       "      <td>8</td>\n",
       "      <td>-10.938448</td>\n",
       "      <td>-37.062000</td>\n",
       "      <td>1</td>\n",
       "      <td>2014-09-13 07:25:10</td>\n",
       "    </tr>\n",
       "    <tr>\n",
       "      <th>8</th>\n",
       "      <td>9</td>\n",
       "      <td>-10.938666</td>\n",
       "      <td>-37.061499</td>\n",
       "      <td>1</td>\n",
       "      <td>2014-09-13 07:25:15</td>\n",
       "    </tr>\n",
       "    <tr>\n",
       "      <th>9</th>\n",
       "      <td>10</td>\n",
       "      <td>-10.938986</td>\n",
       "      <td>-37.060819</td>\n",
       "      <td>1</td>\n",
       "      <td>2014-09-13 07:25:21</td>\n",
       "    </tr>\n",
       "  </tbody>\n",
       "</table>\n",
       "</div>"
      ],
      "text/plain": [
       "   id   latitude  longitude  track_id                 time\n",
       "0   1 -10.939341 -37.062742         1  2014-09-13 07:24:32\n",
       "1   2 -10.939341 -37.062742         1  2014-09-13 07:24:37\n",
       "2   3 -10.939324 -37.062765         1  2014-09-13 07:24:42\n",
       "3   4 -10.939211 -37.062843         1  2014-09-13 07:24:47\n",
       "4   5 -10.938939 -37.062879         1  2014-09-13 07:24:53\n",
       "5   6 -10.938544 -37.062839         1  2014-09-13 07:24:59\n",
       "6   7 -10.938346 -37.062588         1  2014-09-13 07:25:04\n",
       "7   8 -10.938448 -37.062000         1  2014-09-13 07:25:10\n",
       "8   9 -10.938666 -37.061499         1  2014-09-13 07:25:15\n",
       "9  10 -10.938986 -37.060819         1  2014-09-13 07:25:21"
      ]
     },
     "execution_count": 2,
     "metadata": {},
     "output_type": "execute_result"
    }
   ],
   "source": [
    "df = pd.read_csv(\"GPS-Trajectory/go_track_trackspoints.csv\")\n",
    "df.head(10)"
   ]
  },
  {
   "cell_type": "code",
   "execution_count": 3,
   "metadata": {},
   "outputs": [
    {
     "data": {
      "image/png": "[encoded data removed]",
      "text/plain": [
       "<Figure size 432x288 with 1 Axes>"
      ]
     },
     "metadata": {
      "needs_background": "light"
     },
     "output_type": "display_data"
    }
   ],
   "source": [
    "# Let's plot the first track and see what it looks like\n",
    "first = df[df[\"track_id\"] == 1]\n",
    "first.plot(x=\"latitude\", y=\"longitude\", grid=True, marker='o');"
   ]
  },
  {
   "cell_type": "code",
   "execution_count": 4,
   "metadata": {},
   "outputs": [
    {
     "data": {
      "text/plain": [
       "90"
      ]
     },
     "execution_count": 4,
     "metadata": {},
     "output_type": "execute_result"
    }
   ],
   "source": [
    "# let's see how many points are in this column of data\n",
    "df[df[\"track_id\"]==1][\"id\"].count()"
   ]
  },
  {
   "cell_type": "code",
   "execution_count": 5,
   "metadata": {},
   "outputs": [
    {
     "data": {
      "text/plain": [
       "track_id\n",
       "31       646\n",
       "30       646\n",
       "41       433\n",
       "37962    410\n",
       "26       401\n",
       "        ... \n",
       "37993      1\n",
       "159        1\n",
       "171        1\n",
       "38030      1\n",
       "37998      1\n",
       "Name: id, Length: 163, dtype: int64"
      ]
     },
     "execution_count": 5,
     "metadata": {},
     "output_type": "execute_result"
    }
   ],
   "source": [
    "# Let's find some of the longer tracks\n",
    "m=df.groupby(\"track_id\")[\"id\"].count()\n",
    "m.sort_values(ascending=False)"
   ]
  },
  {
   "cell_type": "code",
   "execution_count": 6,
   "metadata": {},
   "outputs": [
    {
     "data": {
      "image/png": "[encoded data removed]",
      "text/plain": [
       "<Figure size 432x288 with 1 Axes>"
      ]
     },
     "metadata": {
      "needs_background": "light"
     },
     "output_type": "display_data"
    }
   ],
   "source": [
    "# Let's plot some tracks, 30/31 are separate from the rest, so\n",
    "# we won't plot them. Just focus on these 3 tracks.\n",
    "# You can see the data has gaps in GPS coverage with big distances\n",
    "# just shown as a straight line\n",
    "fig = plt.figure()\n",
    "for i in [41,37962,27]:\n",
    "    y = df[df[\"track_id\"] == i]\n",
    "    plt.plot(y[\"latitude\"], y[\"longitude\"], label=str(i), marker=\".\")\n",
    "plt.grid(True)\n",
    "plt.legend()\n",
    "plt.ylabel(\"longitude [deg]\")\n",
    "plt.xlabel(\"latitude [deg]\");"
   ]
  },
  {
   "cell_type": "code",
   "execution_count": 7,
   "metadata": {},
   "outputs": [
    {
     "data": {
      "image/png": "[encoded data removed]",
      "text/plain": [
       "<Figure size 432x288 with 1 Axes>"
      ]
     },
     "metadata": {
      "needs_background": "light"
     },
     "output_type": "display_data"
    }
   ],
   "source": [
    "# These tracks appeart to be duplicates or 2 people travelling together\n",
    "fig = plt.figure()\n",
    "for i in [30,31]:\n",
    "    y = df[df[\"track_id\"] == i]\n",
    "    plt.plot(y[\"latitude\"], y[\"longitude\"], label=str(i), marker=\".\")\n",
    "plt.grid(True)\n",
    "plt.legend()\n",
    "plt.ylabel(\"longitude [deg]\")\n",
    "plt.xlabel(\"latitude [deg]\");"
   ]
  },
  {
   "cell_type": "markdown",
   "metadata": {},
   "source": [
    "# Todo\n",
    "\n",
    "What I want to do find a way to pull a random track from this bunch, say it is \"ground truth\" and try to match it to the correct track it came from **efficiently**. Not sure how to do that other than bruit force."
   ]
  },
  {
   "cell_type": "code",
   "execution_count": 9,
   "metadata": {},
   "outputs": [],
   "source": [
    "from scipy.spatial import KDTree\n",
    "from scipy.spatial.distance import pdist\n",
    "from scipy.spatial.distance import cdist\n",
    "\n",
    "x, y = np.mgrid[0:5, 2:8]\n",
    "points = list(zip(x.ravel(), y.ravel()))\n",
    "\n",
    "tree = KDTree(points)\n",
    "# tree.data == points\n",
    "\n",
    "# Querying for the nearest point to (1.9, 1.9) using Euclidean distance\n",
    "distance, index = tree.query((1.9, 1.9))\n",
    "# distance == 0.14142135623730964 == np.sqrt((2 - 1.9)**2 + (2 - 1.9)**2)\n",
    "# index == 12; points[index] == points[12] == (2, 2)"
   ]
  },
  {
   "cell_type": "code",
   "execution_count": 10,
   "metadata": {},
   "outputs": [],
   "source": [
    "aa=first.values.tolist()"
   ]
  },
  {
   "cell_type": "code",
   "execution_count": 11,
   "metadata": {},
   "outputs": [
    {
     "data": {
      "text/html": [
       "<div>\n",
       "<style scoped>\n",
       "    .dataframe tbody tr th:only-of-type {\n",
       "        vertical-align: middle;\n",
       "    }\n",
       "\n",
       "    .dataframe tbody tr th {\n",
       "        vertical-align: top;\n",
       "    }\n",
       "\n",
       "    .dataframe thead th {\n",
       "        text-align: right;\n",
       "    }\n",
       "</style>\n",
       "<table border=\"1\" class=\"dataframe\">\n",
       "  <thead>\n",
       "    <tr style=\"text-align: right;\">\n",
       "      <th></th>\n",
       "      <th>id</th>\n",
       "      <th>latitude</th>\n",
       "      <th>longitude</th>\n",
       "      <th>track_id</th>\n",
       "      <th>time</th>\n",
       "    </tr>\n",
       "  </thead>\n",
       "  <tbody>\n",
       "    <tr>\n",
       "      <th>0</th>\n",
       "      <td>1</td>\n",
       "      <td>-10.939341</td>\n",
       "      <td>-37.062742</td>\n",
       "      <td>1</td>\n",
       "      <td>2014-09-13 07:24:32</td>\n",
       "    </tr>\n",
       "    <tr>\n",
       "      <th>1</th>\n",
       "      <td>2</td>\n",
       "      <td>-10.939341</td>\n",
       "      <td>-37.062742</td>\n",
       "      <td>1</td>\n",
       "      <td>2014-09-13 07:24:37</td>\n",
       "    </tr>\n",
       "    <tr>\n",
       "      <th>2</th>\n",
       "      <td>3</td>\n",
       "      <td>-10.939324</td>\n",
       "      <td>-37.062765</td>\n",
       "      <td>1</td>\n",
       "      <td>2014-09-13 07:24:42</td>\n",
       "    </tr>\n",
       "    <tr>\n",
       "      <th>3</th>\n",
       "      <td>4</td>\n",
       "      <td>-10.939211</td>\n",
       "      <td>-37.062843</td>\n",
       "      <td>1</td>\n",
       "      <td>2014-09-13 07:24:47</td>\n",
       "    </tr>\n",
       "    <tr>\n",
       "      <th>4</th>\n",
       "      <td>5</td>\n",
       "      <td>-10.938939</td>\n",
       "      <td>-37.062879</td>\n",
       "      <td>1</td>\n",
       "      <td>2014-09-13 07:24:53</td>\n",
       "    </tr>\n",
       "  </tbody>\n",
       "</table>\n",
       "</div>"
      ],
      "text/plain": [
       "   id   latitude  longitude  track_id                 time\n",
       "0   1 -10.939341 -37.062742         1  2014-09-13 07:24:32\n",
       "1   2 -10.939341 -37.062742         1  2014-09-13 07:24:37\n",
       "2   3 -10.939324 -37.062765         1  2014-09-13 07:24:42\n",
       "3   4 -10.939211 -37.062843         1  2014-09-13 07:24:47\n",
       "4   5 -10.938939 -37.062879         1  2014-09-13 07:24:53"
      ]
     },
     "execution_count": 11,
     "metadata": {},
     "output_type": "execute_result"
    }
   ],
   "source": [
    "first.head()"
   ]
  },
  {
   "cell_type": "code",
   "execution_count": 12,
   "metadata": {},
   "outputs": [
    {
     "data": {
      "text/plain": [
       "[[-10.9393413858164, -37.0627421097422],\n",
       " [-10.939341385769, -37.0627421097809],\n",
       " [-10.9393239478718, -37.0627645137212]]"
      ]
     },
     "execution_count": 12,
     "metadata": {},
     "output_type": "execute_result"
    }
   ],
   "source": [
    "d=first[[\"latitude\",\"longitude\"]].values.tolist()\n",
    "d[:3]"
   ]
  },
  {
   "cell_type": "code",
   "execution_count": 13,
   "metadata": {},
   "outputs": [],
   "source": [
    "tree = KDTree(d)"
   ]
  },
  {
   "cell_type": "code",
   "execution_count": 14,
   "metadata": {},
   "outputs": [
    {
     "name": "stdout",
     "output_type": "stream",
     "text": [
      "0.0006127626434870153 11\n",
      "[-10.9396414360875, -37.0595030996298]\n"
     ]
    }
   ],
   "source": [
    "distance, index = tree.query((-10.94, -37.06))\n",
    "print(distance, index)\n",
    "print(d[index])"
   ]
  },
  {
   "cell_type": "code",
   "execution_count": 15,
   "metadata": {},
   "outputs": [
    {
     "data": {
      "text/plain": [
       "27.180585895952014"
      ]
     },
     "execution_count": 15,
     "metadata": {},
     "output_type": "execute_result"
    }
   ],
   "source": [
    "# from scipy.spatial.distance import pdist\n",
    "np.sum(pdist(d))"
   ]
  },
  {
   "cell_type": "code",
   "execution_count": 16,
   "metadata": {},
   "outputs": [
    {
     "name": "stdout",
     "output_type": "stream",
     "text": [
      "[[0.19136763 0.28524318]\n",
      " [0.04637592 0.80493098]\n",
      " [0.27024627 0.33590423]\n",
      " [0.75068599 0.05953289]]\n",
      "[[0.1962612  0.27463631]\n",
      " [0.78772716 0.24363733]\n",
      " [0.33490917 0.65976631]\n",
      " [0.16998098 0.92815263]]\n",
      "[[0.0116813  0.59780912 0.40108821 0.64326507]\n",
      " [0.5510699  0.92986677 0.3229926  0.17453306]\n",
      " [0.09606013 0.52564213 0.33025436 0.6006757 ]\n",
      " [0.59469011 0.18779375 0.73017157 1.04485337]]\n"
     ]
    }
   ],
   "source": [
    "# from scipy.spatial.distance import cdist\n",
    " \n",
    "XA = np.random.rand(4,2)\n",
    "XB = np.random.rand(4,2)\n",
    "\n",
    "print(XA)\n",
    "print(XB)\n",
    "\n",
    "my_individual_dist = cdist(XA,XB,\"euclidean\")\n",
    "print(my_individual_dist)"
   ]
  },
  {
   "cell_type": "code",
   "execution_count": 55,
   "metadata": {},
   "outputs": [
    {
     "name": "stdout",
     "output_type": "stream",
     "text": [
      "1.13 µs ± 125 ns per loop (mean ± std. dev. of 7 runs, 1000000 loops each)\n"
     ]
    }
   ],
   "source": [
    "%%timeit\n",
    "m=map(lambda v: v[0]-v[1],zip(range(1000), range(1000)))"
   ]
  },
  {
   "cell_type": "code",
   "execution_count": 51,
   "metadata": {},
   "outputs": [
    {
     "name": "stdout",
     "output_type": "stream",
     "text": [
      "427 µs ± 62.2 µs per loop (mean ± std. dev. of 7 runs, 1000 loops each)\n"
     ]
    }
   ],
   "source": [
    "%%timeit\n",
    "m = []\n",
    "a=range(1000)\n",
    "b = range(1000)\n",
    "for i in range(len(a)):\n",
    "    m.append(a[i]-b[i])"
   ]
  },
  {
   "cell_type": "code",
   "execution_count": 53,
   "metadata": {},
   "outputs": [
    {
     "name": "stdout",
     "output_type": "stream",
     "text": [
      "139 µs ± 13.5 µs per loop (mean ± std. dev. of 7 runs, 10000 loops each)\n"
     ]
    }
   ],
   "source": [
    "%%timeit\n",
    "m = []\n",
    "a=range(1000)\n",
    "b = range(1000)\n",
    "for aa,bb in zip(a,b):\n",
    "    m.append(aa-bb)"
   ]
  },
  {
   "cell_type": "code",
   "execution_count": 57,
   "metadata": {},
   "outputs": [
    {
     "name": "stdout",
     "output_type": "stream",
     "text": [
      "93.5 µs ± 15.3 µs per loop (mean ± std. dev. of 7 runs, 10000 loops each)\n"
     ]
    }
   ],
   "source": [
    "%%timeit\n",
    "m = [a-b for a,b in zip(range(1000),range(1000))]"
   ]
  },
  {
   "cell_type": "code",
   "execution_count": null,
   "metadata": {},
   "outputs": [],
   "source": []
  },
  {
   "cell_type": "code",
   "execution_count": null,
   "metadata": {},
   "outputs": [],
   "source": []
  },
  {
   "cell_type": "code",
   "execution_count": null,
   "metadata": {},
   "outputs": [],
   "source": []
  },
  {
   "cell_type": "code",
   "execution_count": null,
   "metadata": {},
   "outputs": [],
   "source": []
  },
  {
   "cell_type": "code",
   "execution_count": null,
   "metadata": {},
   "outputs": [],
   "source": []
  },
  {
   "cell_type": "code",
   "execution_count": 19,
   "metadata": {},
   "outputs": [],
   "source": [
    "np.random.seed(20140201)\n",
    "num_pts = 50\n",
    "points_a = np.vstack([\n",
    "    np.linspace(0., 10., num=num_pts),\n",
    "    np.linspace(10., 0., num=num_pts)\n",
    "    ]).T\n",
    "\n",
    "points_b = points_a + np.random.random([num_pts, 2]) - 0.5\n",
    "points_c = points_a + np.random.random([num_pts, 2]) - 0.5\n",
    "points_d = points_a + np.vstack([\n",
    "    np.sin(np.linspace(0., 2 * np.pi, num_pts)),\n",
    "    np.sin(np.linspace(0., 2 * np.pi, num_pts)),\n",
    "    ]).T\n",
    "\n",
    "all_trails = [points_a, points_b, points_c, points_d]\n",
    "\n",
    "tolerance = 0.1\n",
    "\n",
    "labelled_pts = np.vstack([\n",
    "    np.hstack([a, np.ones((a.shape[0], 1)) * i])\n",
    "    for i, a in enumerate(all_trails)\n",
    "])\n",
    "\n",
    "tree = KDTree(labelled_pts[:, :2])\n",
    "\n",
    "points_within_tolerance = tree.query_ball_point(labelled_pts[:, :2], tolerance)"
   ]
  },
  {
   "cell_type": "code",
   "execution_count": 41,
   "metadata": {},
   "outputs": [
    {
     "data": {
      "text/plain": [
       "array([list([0, 150]), list([1]), list([2]), list([3]), list([4]),\n",
       "       list([5]), list([6]), list([7, 106]), list([8]), list([9]),\n",
       "       list([10]), list([11]), list([12]), list([13]), list([14]),\n",
       "       list([15]), list([16, 117]), list([17, 116]), list([18]),\n",
       "       list([19]), list([20]), list([21]), list([22, 71, 120]),\n",
       "       list([23]), list([24, 174]), list([25, 175]), list([26, 77]),\n",
       "       list([27]), list([28, 79, 129]), list([29]), list([30]),\n",
       "       list([31]), list([32]), list([33, 135]), list([34, 132]),\n",
       "       list([35]), list([36, 84, 88]), list([37, 138]), list([38]),\n",
       "       list([39]), list([40]), list([41]), list([42]), list([43]),\n",
       "       list([44, 96]), list([45, 97, 146]), list([46]), list([47]),\n",
       "       list([48]), list([49, 199]), list([50]), list([51]), list([52]),\n",
       "       list([53]), list([54]), list([55]), list([56]), list([57, 107]),\n",
       "       list([58, 59]), list([58, 59]), list([60, 62]), list([61]),\n",
       "       list([60, 62]), list([63]), list([64]), list([65]), list([66]),\n",
       "       list([67]), list([68]), list([69]), list([70]), list([22, 71]),\n",
       "       list([72]), list([73]), list([74]), list([75, 127, 176]),\n",
       "       list([76]), list([26, 77]), list([78]), list([28, 79, 129]),\n",
       "       list([80]), list([81]), list([82]), list([83]), list([36, 84, 88]),\n",
       "       list([85, 86]), list([85, 86]), list([87, 137]),\n",
       "       list([36, 84, 88]), list([89]), list([90]), list([91]), list([92]),\n",
       "       list([93]), list([94]), list([95]), list([44, 96]), list([45, 97]),\n",
       "       list([98]), list([99]), list([100, 151]), list([101]), list([102]),\n",
       "       list([103, 153]), list([104]), list([105]), list([7, 106]),\n",
       "       list([57, 107]), list([108]), list([109]), list([110]),\n",
       "       list([111]), list([112]), list([113]), list([114]), list([115]),\n",
       "       list([17, 116]), list([16, 117]), list([118]), list([119]),\n",
       "       list([22, 120]), list([121]), list([122]), list([123]),\n",
       "       list([124]), list([125]), list([126]), list([75, 127, 176]),\n",
       "       list([128, 178]), list([28, 79, 129]), list([130]), list([131]),\n",
       "       list([34, 132]), list([133]), list([134]), list([33, 135]),\n",
       "       list([136]), list([87, 137]), list([37, 138]), list([139]),\n",
       "       list([140]), list([141]), list([142]), list([143]), list([144]),\n",
       "       list([145]), list([45, 146]), list([147, 198]), list([148]),\n",
       "       list([149]), list([0, 150]), list([100, 151]), list([152]),\n",
       "       list([103, 153]), list([154]), list([155]), list([156]),\n",
       "       list([157]), list([158]), list([159]), list([160]), list([161]),\n",
       "       list([162]), list([163]), list([164]), list([165]), list([166]),\n",
       "       list([167]), list([168]), list([169]), list([170]), list([171]),\n",
       "       list([172]), list([173]), list([24, 174]), list([25, 175]),\n",
       "       list([75, 127, 176]), list([177]), list([128, 178]), list([179]),\n",
       "       list([180]), list([181]), list([182]), list([183]), list([184]),\n",
       "       list([185]), list([186]), list([187]), list([188]), list([189]),\n",
       "       list([190]), list([191]), list([192]), list([193]), list([194]),\n",
       "       list([195]), list([196]), list([197]), list([147, 198]),\n",
       "       list([49, 199])], dtype=object)"
      ]
     },
     "execution_count": 41,
     "metadata": {},
     "output_type": "execute_result"
    }
   ],
   "source": [
    "# labelled_pts\n",
    "points_within_tolerance"
   ]
  },
  {
   "cell_type": "code",
   "execution_count": 20,
   "metadata": {},
   "outputs": [],
   "source": [
    "vfunc = np.vectorize(lambda a: np.any(labelled_pts[a, 2] != labelled_pts[a[0], 2]))\n",
    "\n",
    "matches = vfunc(points_within_tolerance)\n",
    "matching_points = labelled_pts[matches, :2]"
   ]
  },
  {
   "cell_type": "code",
   "execution_count": 21,
   "metadata": {},
   "outputs": [],
   "source": [
    "import scipy.cluster.hierarchy\n",
    "\n",
    "clusters = scipy.cluster.hierarchy.fclusterdata(matching_points, tolerance, 'distance')"
   ]
  },
  {
   "cell_type": "code",
   "execution_count": 22,
   "metadata": {},
   "outputs": [
    {
     "name": "stdout",
     "output_type": "stream",
     "text": [
      "[[ 0.00000000e+00  1.00000000e+01  0.00000000e+00  4.00000000e+00]\n",
      " [ 1.42857143e+00  8.57142857e+00  0.00000000e+00  1.00000000e+00]\n",
      " [ 3.26530612e+00  6.73469388e+00  0.00000000e+00  1.00000000e+01]\n",
      " [ 3.46938776e+00  6.53061224e+00  0.00000000e+00  1.10000000e+01]\n",
      " [ 4.48979592e+00  5.51020408e+00  0.00000000e+00  1.90000000e+01]\n",
      " [ 4.89795918e+00  5.10204082e+00  0.00000000e+00  2.00000000e+01]\n",
      " [ 5.10204082e+00  4.89795918e+00  0.00000000e+00  2.30000000e+01]\n",
      " [ 5.30612245e+00  4.69387755e+00  0.00000000e+00  2.20000000e+01]\n",
      " [ 5.71428571e+00  4.28571429e+00  0.00000000e+00  1.80000000e+01]\n",
      " [ 6.73469388e+00  3.26530612e+00  0.00000000e+00  1.60000000e+01]\n",
      " [ 6.93877551e+00  3.06122449e+00  0.00000000e+00  1.50000000e+01]\n",
      " [ 7.34693878e+00  2.65306122e+00  0.00000000e+00  1.20000000e+01]\n",
      " [ 7.55102041e+00  2.44897959e+00  0.00000000e+00  1.30000000e+01]\n",
      " [ 8.97959184e+00  1.02040816e+00  0.00000000e+00  6.00000000e+00]\n",
      " [ 9.18367347e+00  8.16326531e-01  0.00000000e+00  7.00000000e+00]\n",
      " [ 1.00000000e+01  0.00000000e+00  0.00000000e+00  8.00000000e+00]\n",
      " [ 1.66102202e+00  8.58751986e+00  1.00000000e+00  2.00000000e+00]\n",
      " [ 4.41276517e+00  5.51586626e+00  1.00000000e+00  1.90000000e+01]\n",
      " [ 5.10230172e+00  4.50781557e+00  1.00000000e+00  2.10000000e+01]\n",
      " [ 5.27996657e+00  4.76940731e+00  1.00000000e+00  2.20000000e+01]\n",
      " [ 5.71649117e+00  4.32294541e+00  1.00000000e+00  1.80000000e+01]\n",
      " [ 7.31986218e+00  2.65805834e+00  1.00000000e+00  1.20000000e+01]\n",
      " [ 7.55543218e+00  2.54902207e+00  1.00000000e+00  1.40000000e+01]\n",
      " [ 7.37932532e+00  2.71488612e+00  1.00000000e+00  1.20000000e+01]\n",
      " [ 8.96294735e+00  9.29737015e-01  1.00000000e+00  6.00000000e+00]\n",
      " [ 9.21166344e+00  8.84728375e-01  1.00000000e+00  7.00000000e+00]\n",
      " [ 2.57188046e-01  9.97537188e+00  2.00000000e+00  5.00000000e+00]\n",
      " [ 9.40160742e-01  9.67881549e+00  2.00000000e+00  3.00000000e+00]\n",
      " [ 1.40261606e+00  8.48674261e+00  2.00000000e+00  1.00000000e+00]\n",
      " [ 1.61506188e+00  8.50120220e+00  2.00000000e+00  2.00000000e+00]\n",
      " [ 3.54367063e+00  6.56622764e+00  2.00000000e+00  1.10000000e+01]\n",
      " [ 3.28804702e+00  6.79812227e+00  2.00000000e+00  1.00000000e+01]\n",
      " [ 4.56803376e+00  5.47375650e+00  2.00000000e+00  1.90000000e+01]\n",
      " [ 5.11734714e+00  4.47448815e+00  2.00000000e+00  2.10000000e+01]\n",
      " [ 5.33256326e+00  3.87325793e+00  2.00000000e+00  1.70000000e+01]\n",
      " [ 5.79224066e+00  4.26149078e+00  2.00000000e+00  1.80000000e+01]\n",
      " [ 6.85081945e+00  3.05446701e+00  2.00000000e+00  1.50000000e+01]\n",
      " [ 6.65009655e+00  3.22584248e+00  2.00000000e+00  1.60000000e+01]\n",
      " [ 7.48874497e+00  2.60688681e+00  2.00000000e+00  1.40000000e+01]\n",
      " [ 7.57111489e+00  2.37039126e+00  2.00000000e+00  1.30000000e+01]\n",
      " [ 9.11656372e+00  7.47717789e-01  2.00000000e+00  7.00000000e+00]\n",
      " [ 9.67027266e+00  1.02003851e-01  2.00000000e+00  9.00000000e+00]\n",
      " [ 0.00000000e+00  1.00000000e+01  3.00000000e+00  4.00000000e+00]\n",
      " [ 3.31958794e-01  9.92379553e+00  3.00000000e+00  5.00000000e+00]\n",
      " [ 9.87511903e-01  9.76302211e+00  3.00000000e+00  3.00000000e+00]\n",
      " [ 4.96202940e+00  5.16611104e+00  3.00000000e+00  2.00000000e+01]\n",
      " [ 5.03797060e+00  4.83388896e+00  3.00000000e+00  2.30000000e+01]\n",
      " [ 5.11496382e+00  4.50271892e+00  3.00000000e+00  2.10000000e+01]\n",
      " [ 5.28040198e+00  3.85183055e+00  3.00000000e+00  1.70000000e+01]\n",
      " [ 9.66804121e+00  7.62044710e-02  3.00000000e+00  9.00000000e+00]\n",
      " [ 1.00000000e+01 -2.44929360e-16  3.00000000e+00  8.00000000e+00]]\n"
     ]
    }
   ],
   "source": [
    "print(np.hstack([\n",
    "    matching_points,              #x, y\n",
    "    np.vstack([\n",
    "        labelled_pts[matches, 2], #original_trail\n",
    "        clusters                  #segment\n",
    "    ]).T\n",
    "]))"
   ]
  },
  {
   "cell_type": "code",
   "execution_count": 55,
   "metadata": {},
   "outputs": [
    {
     "data": {
      "image/png": "[encoded data removed]",
      "text/plain": [
       "<Figure size 648x648 with 1 Axes>"
      ]
     },
     "metadata": {
      "needs_background": "light"
     },
     "output_type": "display_data"
    }
   ],
   "source": [
    "from itertools import cycle\n",
    "import matplotlib.pyplot as plt\n",
    "\n",
    "\n",
    "plt.subplots(1,1,figsize=(9,9))\n",
    "for pts, colour, i in zip(all_trails, cycle(['blue', 'red', 'orange', 'green']), range(5)):\n",
    "    plt.scatter(pts[:, 0], pts[:, 1], c=colour, label=str(i))\n",
    "\n",
    "for clust_idx in set(clusters):\n",
    "    plt.scatter(\n",
    "        matching_points[clusters == clust_idx, 0], \n",
    "        matching_points[clusters == clust_idx, 1],\n",
    "        c='yellow')\n",
    "plt.legend()\n",
    "plt.grid(True)"
   ]
  },
  {
   "cell_type": "code",
   "execution_count": 37,
   "metadata": {},
   "outputs": [
    {
     "data": {
      "image/png": "[encoded data removed]",
      "text/plain": [
       "<Figure size 432x288 with 1 Axes>"
      ]
     },
     "metadata": {
      "needs_background": "light"
     },
     "output_type": "display_data"
    }
   ],
   "source": [
    "num = 3\n",
    "plt.scatter(all_trails[num][:,0],all_trails[num][:,1])\n",
    "plt.title(all_trails[num].shape);"
   ]
  },
  {
   "cell_type": "code",
   "execution_count": 50,
   "metadata": {},
   "outputs": [
    {
     "data": {
      "text/plain": [
       "4"
      ]
     },
     "execution_count": 50,
     "metadata": {},
     "output_type": "execute_result"
    }
   ],
   "source": [
    "len(all_trails)"
   ]
  },
  {
   "cell_type": "code",
   "execution_count": null,
   "metadata": {},
   "outputs": [],
   "source": []
  }
 ],
 "metadata": {
  "kernelspec": {
   "display_name": "Python 3",
   "language": "python",
   "name": "python3"
  },
  "language_info": {
   "codemirror_mode": {
    "name": "ipython",
    "version": 3
   },
   "file_extension": ".py",
   "mimetype": "text/x-python",
   "name": "python",
   "nbconvert_exporter": "python",
   "pygments_lexer": "ipython3",
   "version": "3.9.1"
  }
 },
 "nbformat": 4,
 "nbformat_minor": 4
}
