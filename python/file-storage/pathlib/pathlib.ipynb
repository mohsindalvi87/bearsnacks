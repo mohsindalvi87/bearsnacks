{
 "cells": [
  {
   "cell_type": "markdown",
   "id": "2c4a2e0a",
   "metadata": {},
   "source": [
    "![](header.jpg)\n",
    "\n",
    "# Pathlib\n",
    "\n",
    "Kevin J. Walchko, PhD\n",
    "\n",
    "9 May 2021\n",
    "\n",
    "---\n",
    "\n",
    "`pathlib` has a lot of cool stuff, here is a little sample:\n",
    "\n",
    "```python\n",
    ">>> Path(\".\").glob(\"*.py\")\n",
    "<generator object Path.glob at 0x11b40ce40>\n",
    "\n",
    ">>> list(Path(\".\").glob(\"*.py\"))\n",
    "[PosixPath('sim.py'),\n",
    "PosixPath('vo.py'),\n",
    "PosixPath('utils.py'),\n",
    "PosixPath('mov.py')]\n",
    "\n",
    ">>> list(Path.home().joinpath(\"github\").glob(\"*.sh\"))\n",
    "[PosixPath('/Users/kevin/github/pull-all.sh'),\n",
    "PosixPath('/Users/kevin/github/git-pull.sh')]\n",
    " \n",
    "```\n",
    "\n",
    "```python\n",
    "Path.is_dir()\n",
    "Path.is_file()\n",
    "Path.is_mount()\n",
    "Path.is_symlink()\n",
    "...\n",
    "```\n",
    "\n",
    "```python\n",
    ">>> p = Path('setup.py')\n",
    ">>> with p.open() as f:\n",
    "...     f.readline()\n",
    "```\n",
    "\n",
    "## References\n",
    "\n",
    "- python docs: [pathlib](https://docs.python.org/3/library/pathlib.html)\n",
    "- more [pathlib examples](https://rednafi.github.io/digressions/python/2020/04/13/python-pathlib.html)"
   ]
  },
  {
   "cell_type": "code",
   "execution_count": 1,
   "id": "ce167680",
   "metadata": {},
   "outputs": [],
   "source": [
    "from pathlib import Path"
   ]
  },
  {
   "cell_type": "code",
   "execution_count": 4,
   "id": "0cfbd015",
   "metadata": {},
   "outputs": [
    {
     "data": {
      "text/plain": [
       "PosixPath('/home/kevin/tmp')"
      ]
     },
     "execution_count": 4,
     "metadata": {},
     "output_type": "execute_result"
    }
   ],
   "source": [
    "Path.home() / \"tmp\""
   ]
  },
  {
   "cell_type": "code",
   "execution_count": null,
   "id": "2011ca8c",
   "metadata": {},
   "outputs": [],
   "source": []
  }
 ],
 "metadata": {
  "kernelspec": {
   "display_name": "Python 3",
   "language": "python",
   "name": "python3"
  },
  "language_info": {
   "codemirror_mode": {
    "name": "ipython",
    "version": 3
   },
   "file_extension": ".py",
   "mimetype": "text/x-python",
   "name": "python",
   "nbconvert_exporter": "python",
   "pygments_lexer": "ipython3",
   "version": "3.8.5"
  }
 },
 "nbformat": 4,
 "nbformat_minor": 5
}
